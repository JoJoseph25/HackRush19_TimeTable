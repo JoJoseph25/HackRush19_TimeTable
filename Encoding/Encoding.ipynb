{
 "cells": [
  {
   "cell_type": "markdown",
   "metadata": {},
   "source": [
    "## Create Encodings\n",
    "Create encodings given a list"
   ]
  },
  {
   "cell_type": "code",
   "execution_count": 107,
   "metadata": {},
   "outputs": [],
   "source": [
    "import math\n",
    "def _get_bits(n,s,st):\n",
    "    if len(s)==n:\n",
    "        st.append(s)\n",
    "    else:\n",
    "        _get_bits(n,s+\"0\",st)\n",
    "        _get_bits(n,s+\"1\",st)\n",
    "        \n",
    "def getbits(n):\n",
    "    stck = []\n",
    "    _get_bits(n,\"\",stck)\n",
    "    return stck\n",
    "\n",
    "def encoder(alist):\n",
    "    length = len(alist)\n",
    "    n_bits = math.ceil(math.log2(length))\n",
    "    encodings = getbits(n_bits)\n",
    "    ret = {item:enc for item, enc in zip(alist,encodings)}\n",
    "    return ret"
   ]
  },
  {
   "cell_type": "markdown",
   "metadata": {},
   "source": [
    "## Save Encodings to file as pickle object and  load when needed"
   ]
  },
  {
   "cell_type": "code",
   "execution_count": null,
   "metadata": {},
   "outputs": [],
   "source": [
    "import pickle\n",
    "\n",
    "def save_obj(obj, name ):\n",
    "    with open(name + '.pkl', 'wb+') as f:\n",
    "        pickle.dump(obj, f, pickle.HIGHEST_PROTOCOL)\n",
    "\n",
    "def load_obj(name ):\n",
    "    with open(name + '.pkl', 'rb') as f:\n",
    "        return pickle.load(f)"
   ]
  },
  {
   "cell_type": "markdown",
   "metadata": {},
   "source": [
    "## Create encoding for Instructors"
   ]
  },
  {
   "cell_type": "code",
   "execution_count": 144,
   "metadata": {},
   "outputs": [],
   "source": [
    "instructors_data=pd.read_csv(\"..\\Data\\Instruct_num_course.csv\")\n",
    "Instructors=instructors_data[\"Name\"].values.tolist()\n",
    "Instructors_encode=encoder(Instructors)\n",
    "save_obj(Instructors_encode,\"instruct_encode\")"
   ]
  },
  {
   "cell_type": "code",
   "execution_count": 147,
   "metadata": {},
   "outputs": [
    {
     "data": {
      "text/plain": [
       "{'A Ramanathan': '00000000',\n",
       " 'Abhay Gautam': '00000001',\n",
       " 'Abhijit Misra': '00000010',\n",
       " 'Ajanta Sachan': '00000011',\n",
       " 'Akshaa Vatwani ': '00000100',\n",
       " 'Alok Kanungo': '00000101',\n",
       " 'Ambika Aiyadurai': '00000110',\n",
       " 'Amit Arora': '00000111',\n",
       " 'Amit Bhatt': '00001000',\n",
       " 'Amit Prashant': '00001001',\n",
       " 'Anand Sengupta': '00001010',\n",
       " 'Angus McBlane': '00001011',\n",
       " 'Anirban Dasgupta': '00001100',\n",
       " 'Arka Chattopadhyay': '00001101',\n",
       " 'Arnab Datta': '00001110',\n",
       " 'Arnapurna Rath': '00001111',\n",
       " 'Arup Chakraborty': '00010000',\n",
       " 'Ashwini Kumar': '00010001',\n",
       " 'Atul Bhargav': '00010010',\n",
       " 'Atul Dixit': '00010011',\n",
       " 'Atul Singh': '00010100',\n",
       " 'Babji Srinivasan': '00010101',\n",
       " 'Baradhwaj Coleppa': '00010110',\n",
       " 'Bhaskar Datta': '00010111',\n",
       " 'Bibekananda Maji': '00011000',\n",
       " 'Bipul Saurabh': '00011001',\n",
       " 'Bireswar Das': '00011010',\n",
       " 'Chandrakumar Appayee': '00011011',\n",
       " 'Chelva Kumar': '00011100',\n",
       " 'Chetan D. Pahlajani': '00011101',\n",
       " 'Chinmay Ghoroi': '00011110',\n",
       " 'Dhiman Basu': '00011111',\n",
       " 'Dhiraj Bhatia': '00100000',\n",
       " 'Dilip Sundaram ': '00100001',\n",
       " 'Dillip Patel': '00100010',\n",
       " 'Emila Panda': '00100011',\n",
       " 'Frederick Coolidge': '00100100',\n",
       " 'G V Rao': '00100101',\n",
       " 'Gaurav Srivastava': '00100110',\n",
       " 'Gopinadhan Kalon': '00100111',\n",
       " 'Gurusamy Arumugam': '00101000',\n",
       " 'Harish P. M.': '00101001',\n",
       " 'Indranath Sengupta': '00101010',\n",
       " 'Iti Gupta': '00101011',\n",
       " 'Jagmohan Tyagi': '00101100',\n",
       " 'Jaichander Swaminathan': '00101101',\n",
       " 'Jordan Littman': '00101110',\n",
       " 'Joycee Mekie': '00101111',\n",
       " 'Joydip Saha': '00110000',\n",
       " 'Jyoti Mukhopadhyay': '00110001',\n",
       " 'K. R. Jayaprakash': '00110010',\n",
       " 'Kabeer Jasuja': '00110011',\n",
       " 'Kaustubh Rane': '00110100',\n",
       " 'Krishna Kanti Dey\\n': '00110101',\n",
       " 'Krishna Prasad': '00110110',\n",
       " 'Leslee Lazar': '00110111',\n",
       " 'Madhu Vadali': '00111000',\n",
       " 'Madhumita Sengupta': '00111001',\n",
       " 'Malavika Subramanyam': '00111010',\n",
       " 'Mana Shah': '00111011',\n",
       " 'Manasi Kanetkar': '00111100',\n",
       " 'Mandar Purushottam': '00111101',\n",
       " 'Manish Kumar': '00111110',\n",
       " 'Manoj Gupta': '00111111',\n",
       " 'Mayank Singh': '01000000',\n",
       " 'Meera Sunny': '01000001',\n",
       " 'Michel Danino': '01000010',\n",
       " 'Milan Kumar Das': '01000011',\n",
       " 'Mithun Radhakrishna': '01000100',\n",
       " 'Mohan C. Joshi': '01000101',\n",
       " 'Mohd. Mubashshir Ahsan': '01000110',\n",
       " 'Mohit Dineshkumar Ganeriwala': '01000111',\n",
       " 'Mona Mehta': '01001000',\n",
       " 'N. Ramakrishnan': '01001001',\n",
       " 'Naran Pindoriya': '01001010',\n",
       " 'Neeldhara Misra': '01001011',\n",
       " 'Neeraj Kaushal': '01001100',\n",
       " 'Nihar Mohapatra': '01001101',\n",
       " 'Nipun Batra': '01001110',\n",
       " 'Nishaant Choksi': '01001111',\n",
       " 'Nithin George': '01010000',\n",
       " 'Nitin Khanna': '01010001',\n",
       " 'Nitin Padhiyar': '01010010',\n",
       " 'Prachi Thareja': '01010011',\n",
       " 'Pranab Mohapatra': '01010100',\n",
       " 'Prasanna Venkatesh B\\n': '01010101',\n",
       " 'Pratik Mutha': '01010110',\n",
       " 'Pratyush Dayal': '01010111',\n",
       " 'Prof. C. N. Pandey': '01011000',\n",
       " 'R N Singh': '01011001',\n",
       " 'R R Puri': '01011010',\n",
       " 'R Sharan': '01011011',\n",
       " 'R. N. Singh': '01011100',\n",
       " 'R. R. Puri': '01011101',\n",
       " 'Ragavan': '01011110',\n",
       " 'Rahul Kumar ': '01011111',\n",
       " 'Raj Jaswa': '01100000',\n",
       " 'Rajat Gupta': '01100001',\n",
       " 'Rajendra Nagar': '01100010',\n",
       " 'Rajendran': '01100011',\n",
       " 'Ravi Ayyagiri': '01100100',\n",
       " 'Ravi Hegde': '01100101',\n",
       " 'Ravi Sastri Ayyagari': '01100110',\n",
       " 'Rupak Banerjee': '01100111',\n",
       " 'S P Mehrotra': '01101000',\n",
       " 'S. Rajendran': '01101001',\n",
       " 'Sairam Swaroop': '01101010',\n",
       " 'Sameer Dalvi': '01101011',\n",
       " 'Sanjay Amrutiya': '01101100',\n",
       " 'Sanjay Singh Bora': '01101101',\n",
       " 'Saptarshi Dey': '01101110',\n",
       " 'Saumya Khatua': '01101111',\n",
       " 'Shanmuganathan Raman': '01110000',\n",
       " 'Sharad Gupta': '01110001',\n",
       " 'Sharmistha Majumdar': '01110010',\n",
       " 'Sharmita Lahiri': '01110011',\n",
       " 'Shashank (GTF)': '01110100',\n",
       " 'Shivakumar Jolad': '01110101',\n",
       " 'Sivapriya': '01110110',\n",
       " 'SP Mehrotra': '01110111',\n",
       " 'Sriram Kanavah': '01111000',\n",
       " 'Sudhanshu Sharma': '01111001',\n",
       " 'Sudipta Basu': '01111010',\n",
       " 'Sudipta Sarkar': '01111011',\n",
       " 'Sumeet Varghese': '01111100',\n",
       " 'Superb Misra': '01111101',\n",
       " 'Svetlana Brzev': '01111110',\n",
       " 'Tannistha Samanta': '01111111',\n",
       " 'Uddipta Ghosh ': '10000000',\n",
       " 'Umashankar Singh': '10000001',\n",
       " 'Uttama Lahiri': '10000010',\n",
       " 'Vandana Luximon': '10000011',\n",
       " 'Vijay Thiruvenkatam': '10000100',\n",
       " 'Vikrant Jain': '10000101',\n",
       " 'Vimal Mishra ': '10000110',\n",
       " 'Vinay Verma': '10000111',\n",
       " 'Vineet Vasishta': '10001000',\n",
       " 'Vinod Chandra': '10001001',\n",
       " 'Vinod Narayanan': '10001010',\n",
       " 'Virupakshi Soppina': '10001011'}"
      ]
     },
     "execution_count": 147,
     "metadata": {},
     "output_type": "execute_result"
    }
   ],
   "source": [
    "Instructors_encode"
   ]
  },
  {
   "cell_type": "code",
   "execution_count": 139,
   "metadata": {},
   "outputs": [],
   "source": [
    "#Instructors_encode=load_obj(\"instruct_encode\")"
   ]
  },
  {
   "cell_type": "markdown",
   "metadata": {},
   "source": [
    "## Create encoding for ClassRooms"
   ]
  },
  {
   "cell_type": "code",
   "execution_count": 150,
   "metadata": {},
   "outputs": [],
   "source": [
    "location_data=pd.read_csv(\"..\\Data\\Room_Cap.csv\")\n",
    "Location=location_data[\"Room No\"].values.tolist()\n",
    "Location_encode=encoder(Location)\n",
    "save_obj(Location_encode,\"location_encode\")"
   ]
  },
  {
   "cell_type": "code",
   "execution_count": 149,
   "metadata": {},
   "outputs": [
    {
     "data": {
      "text/plain": [
       "{'7/101': '00000',\n",
       " '7/102': '00001',\n",
       " '7/103': '00010',\n",
       " '7/104': '00011',\n",
       " '7/105': '00100',\n",
       " '7/106': '00101',\n",
       " '7/107': '00110',\n",
       " '7/110': '00111',\n",
       " '7/201': '01000',\n",
       " '7/202': '01001',\n",
       " '7/203': '01010',\n",
       " '7/204': '01011',\n",
       " '7/205': '01100',\n",
       " '7/206': '01101',\n",
       " '7/207': '01110',\n",
       " '7/208': '01111',\n",
       " '7/209': '10000',\n",
       " '7/210': '10001',\n",
       " '1/001': '10010',\n",
       " '1/002': '10011',\n",
       " '1/003': '10100'}"
      ]
     },
     "execution_count": 149,
     "metadata": {},
     "output_type": "execute_result"
    }
   ],
   "source": [
    "Location_encode"
   ]
  },
  {
   "cell_type": "code",
   "execution_count": 143,
   "metadata": {},
   "outputs": [],
   "source": [
    "#Location_encode=load_obj(\"location_encode\")"
   ]
  },
  {
   "cell_type": "markdown",
   "metadata": {},
   "source": [
    "## Create encoding for ClassRooms_Cap"
   ]
  },
  {
   "cell_type": "code",
   "execution_count": 161,
   "metadata": {},
   "outputs": [
    {
     "data": {
      "text/plain": [
       "{'7/101': '40',\n",
       " '7/102': '50',\n",
       " '7/103': '40',\n",
       " '7/104': '40',\n",
       " '7/105': '40',\n",
       " '7/106': '40',\n",
       " '7/107': '50',\n",
       " '7/110': '40',\n",
       " '7/201': '40',\n",
       " '7/202': '50',\n",
       " '7/203': '50',\n",
       " '7/204': '40',\n",
       " '7/205': '40',\n",
       " '7/206': '40',\n",
       " '7/207': '40',\n",
       " '7/208': '70',\n",
       " '7/209': '100',\n",
       " '7/210': '40',\n",
       " '1/001': '150',\n",
       " '1/002': '150',\n",
       " '1/003': '292'}"
      ]
     },
     "execution_count": 161,
     "metadata": {},
     "output_type": "execute_result"
    }
   ],
   "source": [
    "import csv\n",
    "reader = csv.reader(open('..\\Data\\Room_Cap.csv', 'r'))\n",
    "Location_Cap = {}\n",
    "for row in reader:\n",
    "    key, value = row\n",
    "    Location_Cap[key] = value\n",
    "\n",
    "header=Location_Cap.pop('Room No')\n",
    "save_obj(Location_Cap,\"location_cap\")\n",
    "Location_Cap"
   ]
  },
  {
   "cell_type": "code",
   "execution_count": 96,
   "metadata": {},
   "outputs": [],
   "source": [
    "save_encode2file(x,\"test\")"
   ]
  },
  {
   "cell_type": "code",
   "execution_count": 97,
   "metadata": {},
   "outputs": [],
   "source": [
    "y=load_obj(\"test\")"
   ]
  },
  {
   "cell_type": "code",
   "execution_count": 98,
   "metadata": {},
   "outputs": [
    {
     "data": {
      "text/plain": [
       "{'a': '000', 'b': '001', 'c': '010', 'd': '011', 'e': '100'}"
      ]
     },
     "execution_count": 98,
     "metadata": {},
     "output_type": "execute_result"
    }
   ],
   "source": [
    "y"
   ]
  },
  {
   "cell_type": "code",
   "execution_count": 81,
   "metadata": {},
   "outputs": [
    {
     "data": {
      "text/plain": [
       "{'a': '000', 'b': '001', 'c': '010', 'd': '011', 'e': '100', 'f': '101'}"
      ]
     },
     "execution_count": 81,
     "metadata": {},
     "output_type": "execute_result"
    }
   ],
   "source": [
    "encoder([\"a\",\"b\",\"c\",\"d\",\"e\",\"f\"])"
   ]
  },
  {
   "cell_type": "code",
   "execution_count": 68,
   "metadata": {},
   "outputs": [
    {
     "data": {
      "text/plain": [
       "str"
      ]
     },
     "execution_count": 68,
     "metadata": {},
     "output_type": "execute_result"
    }
   ],
   "source": []
  },
  {
   "cell_type": "code",
   "execution_count": 1,
   "metadata": {},
   "outputs": [],
   "source": [
    "import numpy as np"
   ]
  },
  {
   "cell_type": "code",
   "execution_count": 12,
   "metadata": {},
   "outputs": [],
   "source": [
    "def decimalToBinary(num):\n",
    "    s = ''\n",
    "    k = ''\n",
    "    if num > 1:\n",
    "        k = decimalToBinary(num // 2)\n",
    "    \n",
    "    s = s + k\n",
    "    s = s + str(num % 2)\n",
    "    return s\n",
    "    #print(num % 2, end='')\n"
   ]
  },
  {
   "cell_type": "code",
   "execution_count": 17,
   "metadata": {},
   "outputs": [
    {
     "name": "stdout",
     "output_type": "stream",
     "text": [
      "1\n"
     ]
    }
   ],
   "source": [
    "print decimalToBinary(1)"
   ]
  },
  {
   "cell_type": "code",
   "execution_count": 18,
   "metadata": {},
   "outputs": [],
   "source": [
    "n = len(tdata)\n",
    "rooms = {}\n",
    "for i in range(1,n):\n",
    "    rooms[tdata.values[i,0]] = decimalToBinary(i)\n"
   ]
  },
  {
   "cell_type": "code",
   "execution_count": 19,
   "metadata": {},
   "outputs": [
    {
     "name": "stdout",
     "output_type": "stream",
     "text": [
      "{'7/110': '1000', '1/002': '10100', 'Room No': '0', '7/210': '10010', '1/001': '10011', '7/102': '10', '7/103': '11', '1/003': '10101', '7/101': '1', '7/106': '110', '7/107': '111', '7/104': '100', '7/105': '101', '7/209': '10001', '7/208': '10000', '7/201': '1001', '7/203': '1011', '7/202': '1010', '7/205': '1101', '7/204': '1100', '7/207': '1111', '7/206': '1110'}\n"
     ]
    }
   ],
   "source": [
    "print rooms"
   ]
  },
  {
   "cell_type": "code",
   "execution_count": 21,
   "metadata": {},
   "outputs": [],
   "source": [
    "tdata = pd.read_csv('Instructors - Instructors.csv',sep=',',header = None)"
   ]
  },
  {
   "cell_type": "code",
   "execution_count": 22,
   "metadata": {},
   "outputs": [],
   "source": [
    "n = len(tdata)\n",
    "Ins_encode = {}\n",
    "for i in range(1,n):\n",
    "    Ins_encode[tdata.values[i,0]] = decimalToBinary(i)\n"
   ]
  },
  {
   "cell_type": "code",
   "execution_count": 23,
   "metadata": {},
   "outputs": [
    {
     "name": "stdout",
     "output_type": "stream",
     "text": [
      "{'Nitin Khanna ': '1001110', 'Saumya Khatua ': '1101000', 'Uttama Lahiri': '1111011', 'Mana Shah': '111100', 'N. Ramakrishnan': '1000111', 'Jaichander Swaminathan': '101110', 'Nishaant Choksi': '1001100', 'Nipun Batra': '1001011', 'Jordan Littman': '101111', 'Shivakumar Jolad': '1101110', 'Atul Bhargav': '10011', 'Virupakshi Soppina': '10000011', 'Sameer Dalvi': '1100100', 'Michel Danino': '1000010', 'Rajendran': '1011101', 'Nitin Padhiyar ': '1001111', 'Sudipta Sarkar': '1110100', 'Bipul Saurabh': '11010', 'Sharmita Lahiri': '1101100', 'Chetan D. Pahlajani': '11110', 'Prachi Thareja ': '1010001', 'Nithin George': '1001101', 'G V Rao': '100110', 'Amit Prashant ': '1010', 'Dhiraj Bhatia': '100001', 'Superb Misra': '1110110', 'Sanjay Singh Bora': '1100110', 'Prof. C. N. Pandey': '1010110', 'Frederick Coolidge': '100101', 'Nihar Mohapatra': '1001010', 'Leslee Lazar': '111000', 'Krishna Kanti Dey': '110110', 'Chinmay Ghoroi ': '11111', 'Dilip Sundaram': '100010', 'Vijay Thiruvenkatam': '1111101', 'Indranath Sengupta': '101011', 'Anand Sengupta': '1011', 'Bibekananda Maji': '11001', 'Kaustubh Rane': '110101', 'Pratyush Dayal': '1010101', 'S. Rajendran': '1100010', 'Madhu Vadali ': '111001', 'Sriram Kanavah': '1110001', 'Arnaputna Rath': '10000', 'Saptarshi Dey': '1100111', 'Abhijit Misra ': '11', 'Sanjay Amrutiya': '1100101', 'Vikrant Jain': '1111110', 'Sudipta Basu': '1110011', 'Babji Srinivasan': '10110', 'Vinod Chandra': '10000001', 'Emila Panda': '100100', 'Anirban Dasgupta': '1101', 'Atul Dixit ': '10100', 'Bireswar Das': '11011', 'Vineet Vasishta': '10000000', 'SP Mehrotra': '1110000', 'Angus McBlane': '1100', 'Malavika Subramanyam': '111011', 'Manoj Gupta': '111111', 'Mohan C. Joshi': '1000100', 'Ravi Hegde': '1011110', 'Manasi Kanetkar': '111101', 'R Sharan': '1011001', 'Chandrakumar Appayee': '11100', 'Tannistha Samanta': '1111000', 'Rupak Banerjee': '1100000', 'Neeldhara Misra': '1001001', 'Joycee Mekie ': '110000', 'Rajendra Nagar': '1011100', 'Meera Sunny': '1000001', 'Prasanna Venkatesh B\\n': '1010011', 'Mithun Radhakrishna': '1000011', 'Jyoti Mukhopadhyay': '110010', 'Mohd. Mubashshir Ahsan': '1000101', 'Iti Gupta': '101100', 'Baradhwaj Coleppa': '10111', 'Madhumita Sengupta': '111010', 'Amit Bhatt': '1001', 'Sharad Gupta': '1101010', 'Vandana Luximon': '1111100', 'Ajanta Sachan': '100', 'Sumeet Varghese': '1110101', 'Grand Total': '101001', 'Dhiman Basu': '100000', 'Mona Mehta ': '1000110', 'Raj Jaswa': '1011011', 'Shanmuganathan Raman': '1101001', 'Kabeer Jasuja': '110100', 'Arka Chattopadhyay': '1110', 'S P Mehrotra': '1100001', 'Atul Singh': '10101', 'Sivapriya': '1101111', 'Umashankar Singh': '1111010', 'Akshaa Vatwani': '101', 'K. R. Jayaprakash': '110011', 'R N Singh': '1010111', 'Sudhanshu Sharma': '1110010', 'Prachi Thareja': '1010000', 'Vinod Narayanan': '10000010', 'R R Puri': '1011000', 'Ambika Aiyadurai': '111', 'Alok Kanungo': '110', 'Naran Pindoriya': '1001000', 'Ravi Sastri Ayyagari': '1011111', 'Abhay Gautam': '10', 'Uddipta Ghosh ': '1111001', 'A Ramanathan': '1', 'Ashwini Kumar': '10010', 'Mayank Singh': '1000000', 'Arnab Datta': '1111', 'Gaurav Srivastava': '100111', 'Krishna Prasad': '110111', 'Vimal Mishra': '1111111', 'Chelva Kumar': '11101', 'Gopinadhan Kalon': '101000', 'Sairam Swaroop': '1100011', 'Dillip Patel': '100011', 'Manish Kumar': '111110', 'Jagmohan Tyagi': '101101', 'Svetlana Brzev': '1110111', 'Arup Chakraborty': '10001', 'Joydip Saha': '110001', 'Pratik Mutha': '1010100', 'Amit Arora': '1000', 'Pranab Mohapatra': '1010010', 'Harish P. M.': '101010', 'Ragavan': '1011010', 'Sharmistha Majumdar': '1101011', 'Bhaskar Datta': '11000', 'Shashank': '1101101'}\n"
     ]
    }
   ],
   "source": [
    "print Ins_encode"
   ]
  },
  {
   "cell_type": "code",
   "execution_count": 37,
   "metadata": {},
   "outputs": [],
   "source": [
    "import csv\n",
    "my_dict = {'1': 'aaa', '2': 'bbb', '3': 'ccc'}\n",
    "with open('test.csv', 'w') as f:\n",
    "    for key in Ins_encode.keys():\n",
    "        f.write(\"%s,%s\\n\"%(key,Ins_encode[key]))"
   ]
  }
 ],
 "metadata": {
  "kernelspec": {
   "display_name": "Python 3",
   "language": "python",
   "name": "python3"
  },
  "language_info": {
   "codemirror_mode": {
    "name": "ipython",
    "version": 3
   },
   "file_extension": ".py",
   "mimetype": "text/x-python",
   "name": "python",
   "nbconvert_exporter": "python",
   "pygments_lexer": "ipython3",
   "version": "3.6.4"
  }
 },
 "nbformat": 4,
 "nbformat_minor": 2
}
