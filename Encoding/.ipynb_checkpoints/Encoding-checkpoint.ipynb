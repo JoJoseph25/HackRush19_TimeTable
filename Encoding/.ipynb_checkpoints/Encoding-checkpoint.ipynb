{
 "cells": [
  {
   "cell_type": "code",
   "execution_count": 1,
   "metadata": {},
   "outputs": [],
   "source": [
    "import encode_list"
   ]
  },
  {
   "cell_type": "code",
   "execution_count": null,
   "metadata": {},
   "outputs": [],
   "source": [
    "encoder"
   ]
  },
  {
   "cell_type": "code",
   "execution_count": null,
   "metadata": {},
   "outputs": [],
   "source": []
  },
  {
   "cell_type": "code",
   "execution_count": 1,
   "metadata": {},
   "outputs": [],
   "source": [
    "import numpy as np"
   ]
  },
  {
   "cell_type": "code",
   "execution_count": 12,
   "metadata": {},
   "outputs": [],
   "source": [
    "def decimalToBinary(num):\n",
    "    s = ''\n",
    "    k = ''\n",
    "    if num > 1:\n",
    "        k = decimalToBinary(num // 2)\n",
    "    \n",
    "    s = s + k\n",
    "    s = s + str(num % 2)\n",
    "    return s\n",
    "    #print(num % 2, end='')\n"
   ]
  },
  {
   "cell_type": "code",
   "execution_count": 17,
   "metadata": {},
   "outputs": [
    {
     "name": "stdout",
     "output_type": "stream",
     "text": [
      "1\n"
     ]
    }
   ],
   "source": [
    "print decimalToBinary(1)"
   ]
  },
  {
   "cell_type": "code",
   "execution_count": 18,
   "metadata": {},
   "outputs": [],
   "source": [
    "n = len(tdata)\n",
    "rooms = {}\n",
    "for i in range(1,n):\n",
    "    rooms[tdata.values[i,0]] = decimalToBinary(i)\n"
   ]
  },
  {
   "cell_type": "code",
   "execution_count": 19,
   "metadata": {},
   "outputs": [
    {
     "name": "stdout",
     "output_type": "stream",
     "text": [
      "{'7/110': '1000', '1/002': '10100', 'Room No': '0', '7/210': '10010', '1/001': '10011', '7/102': '10', '7/103': '11', '1/003': '10101', '7/101': '1', '7/106': '110', '7/107': '111', '7/104': '100', '7/105': '101', '7/209': '10001', '7/208': '10000', '7/201': '1001', '7/203': '1011', '7/202': '1010', '7/205': '1101', '7/204': '1100', '7/207': '1111', '7/206': '1110'}\n"
     ]
    }
   ],
   "source": [
    "print rooms"
   ]
  },
  {
   "cell_type": "code",
   "execution_count": 21,
   "metadata": {},
   "outputs": [],
   "source": [
    "tdata = pd.read_csv('Instructors - Instructors.csv',sep=',',header = None)"
   ]
  },
  {
   "cell_type": "code",
   "execution_count": 22,
   "metadata": {},
   "outputs": [],
   "source": [
    "n = len(tdata)\n",
    "Ins_encode = {}\n",
    "for i in range(1,n):\n",
    "    Ins_encode[tdata.values[i,0]] = decimalToBinary(i)\n"
   ]
  },
  {
   "cell_type": "code",
   "execution_count": 23,
   "metadata": {},
   "outputs": [
    {
     "name": "stdout",
     "output_type": "stream",
     "text": [
      "{'Nitin Khanna ': '1001110', 'Saumya Khatua ': '1101000', 'Uttama Lahiri': '1111011', 'Mana Shah': '111100', 'N. Ramakrishnan': '1000111', 'Jaichander Swaminathan': '101110', 'Nishaant Choksi': '1001100', 'Nipun Batra': '1001011', 'Jordan Littman': '101111', 'Shivakumar Jolad': '1101110', 'Atul Bhargav': '10011', 'Virupakshi Soppina': '10000011', 'Sameer Dalvi': '1100100', 'Michel Danino': '1000010', 'Rajendran': '1011101', 'Nitin Padhiyar ': '1001111', 'Sudipta Sarkar': '1110100', 'Bipul Saurabh': '11010', 'Sharmita Lahiri': '1101100', 'Chetan D. Pahlajani': '11110', 'Prachi Thareja ': '1010001', 'Nithin George': '1001101', 'G V Rao': '100110', 'Amit Prashant ': '1010', 'Dhiraj Bhatia': '100001', 'Superb Misra': '1110110', 'Sanjay Singh Bora': '1100110', 'Prof. C. N. Pandey': '1010110', 'Frederick Coolidge': '100101', 'Nihar Mohapatra': '1001010', 'Leslee Lazar': '111000', 'Krishna Kanti Dey': '110110', 'Chinmay Ghoroi ': '11111', 'Dilip Sundaram': '100010', 'Vijay Thiruvenkatam': '1111101', 'Indranath Sengupta': '101011', 'Anand Sengupta': '1011', 'Bibekananda Maji': '11001', 'Kaustubh Rane': '110101', 'Pratyush Dayal': '1010101', 'S. Rajendran': '1100010', 'Madhu Vadali ': '111001', 'Sriram Kanavah': '1110001', 'Arnaputna Rath': '10000', 'Saptarshi Dey': '1100111', 'Abhijit Misra ': '11', 'Sanjay Amrutiya': '1100101', 'Vikrant Jain': '1111110', 'Sudipta Basu': '1110011', 'Babji Srinivasan': '10110', 'Vinod Chandra': '10000001', 'Emila Panda': '100100', 'Anirban Dasgupta': '1101', 'Atul Dixit ': '10100', 'Bireswar Das': '11011', 'Vineet Vasishta': '10000000', 'SP Mehrotra': '1110000', 'Angus McBlane': '1100', 'Malavika Subramanyam': '111011', 'Manoj Gupta': '111111', 'Mohan C. Joshi': '1000100', 'Ravi Hegde': '1011110', 'Manasi Kanetkar': '111101', 'R Sharan': '1011001', 'Chandrakumar Appayee': '11100', 'Tannistha Samanta': '1111000', 'Rupak Banerjee': '1100000', 'Neeldhara Misra': '1001001', 'Joycee Mekie ': '110000', 'Rajendra Nagar': '1011100', 'Meera Sunny': '1000001', 'Prasanna Venkatesh B\\n': '1010011', 'Mithun Radhakrishna': '1000011', 'Jyoti Mukhopadhyay': '110010', 'Mohd. Mubashshir Ahsan': '1000101', 'Iti Gupta': '101100', 'Baradhwaj Coleppa': '10111', 'Madhumita Sengupta': '111010', 'Amit Bhatt': '1001', 'Sharad Gupta': '1101010', 'Vandana Luximon': '1111100', 'Ajanta Sachan': '100', 'Sumeet Varghese': '1110101', 'Grand Total': '101001', 'Dhiman Basu': '100000', 'Mona Mehta ': '1000110', 'Raj Jaswa': '1011011', 'Shanmuganathan Raman': '1101001', 'Kabeer Jasuja': '110100', 'Arka Chattopadhyay': '1110', 'S P Mehrotra': '1100001', 'Atul Singh': '10101', 'Sivapriya': '1101111', 'Umashankar Singh': '1111010', 'Akshaa Vatwani': '101', 'K. R. Jayaprakash': '110011', 'R N Singh': '1010111', 'Sudhanshu Sharma': '1110010', 'Prachi Thareja': '1010000', 'Vinod Narayanan': '10000010', 'R R Puri': '1011000', 'Ambika Aiyadurai': '111', 'Alok Kanungo': '110', 'Naran Pindoriya': '1001000', 'Ravi Sastri Ayyagari': '1011111', 'Abhay Gautam': '10', 'Uddipta Ghosh ': '1111001', 'A Ramanathan': '1', 'Ashwini Kumar': '10010', 'Mayank Singh': '1000000', 'Arnab Datta': '1111', 'Gaurav Srivastava': '100111', 'Krishna Prasad': '110111', 'Vimal Mishra': '1111111', 'Chelva Kumar': '11101', 'Gopinadhan Kalon': '101000', 'Sairam Swaroop': '1100011', 'Dillip Patel': '100011', 'Manish Kumar': '111110', 'Jagmohan Tyagi': '101101', 'Svetlana Brzev': '1110111', 'Arup Chakraborty': '10001', 'Joydip Saha': '110001', 'Pratik Mutha': '1010100', 'Amit Arora': '1000', 'Pranab Mohapatra': '1010010', 'Harish P. M.': '101010', 'Ragavan': '1011010', 'Sharmistha Majumdar': '1101011', 'Bhaskar Datta': '11000', 'Shashank': '1101101'}\n"
     ]
    }
   ],
   "source": [
    "print Ins_encode"
   ]
  },
  {
   "cell_type": "code",
   "execution_count": 37,
   "metadata": {},
   "outputs": [],
   "source": [
    "import csv\n",
    "my_dict = {'1': 'aaa', '2': 'bbb', '3': 'ccc'}\n",
    "with open('test.csv', 'w') as f:\n",
    "    for key in Ins_encode.keys():\n",
    "        f.write(\"%s,%s\\n\"%(key,Ins_encode[key]))"
   ]
  }
 ],
 "metadata": {
  "kernelspec": {
   "display_name": "Python 3",
   "language": "python",
   "name": "python3"
  },
  "language_info": {
   "codemirror_mode": {
    "name": "ipython",
    "version": 3
   },
   "file_extension": ".py",
   "mimetype": "text/x-python",
   "name": "python",
   "nbconvert_exporter": "python",
   "pygments_lexer": "ipython3",
   "version": "3.6.4"
  }
 },
 "nbformat": 4,
 "nbformat_minor": 2
}
