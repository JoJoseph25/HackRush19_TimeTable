{
 "cells": [
  {
   "cell_type": "code",
   "execution_count": 19,
   "metadata": {},
   "outputs": [],
   "source": [
    "import os\n",
    "import pickle\n",
    "import pandas as pd"
   ]
  },
  {
   "cell_type": "markdown",
   "metadata": {},
   "source": [
    "## Functions"
   ]
  },
  {
   "cell_type": "code",
   "execution_count": 20,
   "metadata": {},
   "outputs": [],
   "source": [
    "# Function to Load Encodings\n",
    "def load_obj(name ):\n",
    "    with open(name + '.pkl', 'rb') as f:\n",
    "        return pickle.load(f)\n",
    "\n",
    "# Function to convert Course Code to Binary (14 bit encoding)\n",
    "def CourseCode_to_binary(Code,Discipline_encode,Level_encode,Last_Digits_encode):\n",
    "    if len(Code.split())==2:\n",
    "        Discipline,Num=Code.split()\n",
    "    else:\n",
    "        Discipline,Num,Extra=Code.split()\n",
    "    Level=Num[:1]\n",
    "    Last_Digit=Num[1:]\n",
    "    Discipline_binary=Discipline_encode[Discipline]\n",
    "    Level_binary=Level_encode[Level]\n",
    "    Last_Digits_binary=Last_Digits_encode[Last_Digit]\n",
    "\n",
    "    CourseCode_binary=Discipline_binary+Level_binary+Last_Digits_binary\n",
    "    return CourseCode_binary"
   ]
  },
  {
   "cell_type": "markdown",
   "metadata": {},
   "source": [
    "## Get all Data"
   ]
  },
  {
   "cell_type": "code",
   "execution_count": 23,
   "metadata": {},
   "outputs": [
    {
     "ename": "FileNotFoundError",
     "evalue": "[WinError 2] The system cannot find the file specified: '../Data'",
     "output_type": "error",
     "traceback": [
      "\u001b[1;31m---------------------------------------------------------------------------\u001b[0m",
      "\u001b[1;31mFileNotFoundError\u001b[0m                         Traceback (most recent call last)",
      "\u001b[1;32m<ipython-input-23-cc0b16a36aa9>\u001b[0m in \u001b[0;36m<module>\u001b[1;34m()\u001b[0m\n\u001b[1;32m----> 1\u001b[1;33m \u001b[0mos\u001b[0m\u001b[1;33m.\u001b[0m\u001b[0mchdir\u001b[0m\u001b[1;33m(\u001b[0m\u001b[1;34m\"../Data\"\u001b[0m\u001b[1;33m)\u001b[0m\u001b[1;33m\u001b[0m\u001b[0m\n\u001b[0m\u001b[0;32m      2\u001b[0m \u001b[1;33m\u001b[0m\u001b[0m\n\u001b[0;32m      3\u001b[0m \u001b[0mnum_std_in_course\u001b[0m\u001b[1;33m=\u001b[0m\u001b[0mpd\u001b[0m\u001b[1;33m.\u001b[0m\u001b[0mread_csv\u001b[0m\u001b[1;33m(\u001b[0m\u001b[1;34m\"Courses_num_stdnt.csv\"\u001b[0m\u001b[1;33m)\u001b[0m\u001b[1;33m.\u001b[0m\u001b[0mset_index\u001b[0m\u001b[1;33m(\u001b[0m\u001b[1;34m'Courses'\u001b[0m\u001b[1;33m)\u001b[0m\u001b[1;33m[\u001b[0m\u001b[1;34m'No_students'\u001b[0m\u001b[1;33m]\u001b[0m\u001b[1;33m.\u001b[0m\u001b[0mto_dict\u001b[0m\u001b[1;33m(\u001b[0m\u001b[1;33m)\u001b[0m\u001b[1;33m\u001b[0m\u001b[0m\n\u001b[0;32m      4\u001b[0m \u001b[0mos\u001b[0m\u001b[1;33m.\u001b[0m\u001b[0mchdir\u001b[0m\u001b[1;33m(\u001b[0m\u001b[1;34m\"./Constraints\"\u001b[0m\u001b[1;33m)\u001b[0m\u001b[1;33m\u001b[0m\u001b[0m\n\u001b[0;32m      5\u001b[0m \u001b[0mDiscipline_constraint\u001b[0m\u001b[1;33m=\u001b[0m\u001b[0mpd\u001b[0m\u001b[1;33m.\u001b[0m\u001b[0mread_csv\u001b[0m\u001b[1;33m(\u001b[0m\u001b[1;34m\"Discipline_constraint.csv\"\u001b[0m\u001b[1;33m)\u001b[0m\u001b[1;33m\u001b[0m\u001b[0m\n",
      "\u001b[1;31mFileNotFoundError\u001b[0m: [WinError 2] The system cannot find the file specified: '../Data'"
     ]
    }
   ],
   "source": [
    "os.chdir(\"../Data\")\n",
    "num_std_in_course=pd.read_csv(\"Courses_num_stdnt.csv\").set_index('Courses')['No_students'].to_dict()\n",
    "os.chdir(\"./Constraints\")\n",
    "Discipline_constraint=pd.read_csv(\"Discipline_constraint.csv\")\n",
    "Discipline_constraint"
   ]
  },
  {
   "cell_type": "markdown",
   "metadata": {},
   "source": [
    "## Get all Encodings"
   ]
  },
  {
   "cell_type": "code",
   "execution_count": 12,
   "metadata": {},
   "outputs": [],
   "source": [
    "os.chdir(\"../Encoding\")\n",
    "Discipline_encode=load_obj(\"discipline_encode\")\n",
    "Level_encode=load_obj(\"level_encode\")\n",
    "Last_Digits_encode=load_obj(\"last_digits_encode\")\n",
    "Instructors_encode=load_obj(\"instruct_encode\")\n",
    "Weekday_encode=load_obj(\"weekday_encode\")\n",
    "Time_encode=load_obj(\"time_encode\")\n",
    "Location_encode=load_obj(\"location_encode\")\n",
    "Location_Cap=load_obj(\"location_cap\")\n",
    "os.chdir(\"../GA\")"
   ]
  },
  {
   "cell_type": "code",
   "execution_count": 13,
   "metadata": {},
   "outputs": [
    {
     "data": {
      "text/plain": [
       "{'A Ramanathan': '00000000',\n",
       " 'Abhay Gautam': '00000001',\n",
       " 'Abhijit Misra': '00000010',\n",
       " 'Ajanta Sachan': '00000011',\n",
       " 'Akshaa Vatwani ': '00000100',\n",
       " 'Alok Kanungo': '00000101',\n",
       " 'Ambika Aiyadurai': '00000110',\n",
       " 'Amit Arora': '00000111',\n",
       " 'Amit Bhatt': '00001000',\n",
       " 'Amit Prashant': '00001001',\n",
       " 'Anand Sengupta': '00001010',\n",
       " 'Angus McBlane': '00001011',\n",
       " 'Anirban Dasgupta': '00001100',\n",
       " 'Arka Chattopadhyay': '00001101',\n",
       " 'Arnab Datta': '00001110',\n",
       " 'Arnapurna Rath': '00001111',\n",
       " 'Arup Chakraborty': '00010000',\n",
       " 'Ashwini Kumar': '00010001',\n",
       " 'Atul Bhargav': '00010010',\n",
       " 'Atul Dixit': '00010011',\n",
       " 'Atul Singh': '00010100',\n",
       " 'Babji Srinivasan': '00010101',\n",
       " 'Baradhwaj Coleppa': '00010110',\n",
       " 'Bhaskar Datta': '00010111',\n",
       " 'Bibekananda Maji': '00011000',\n",
       " 'Bipul Saurabh': '00011001',\n",
       " 'Bireswar Das': '00011010',\n",
       " 'Chandrakumar Appayee': '00011011',\n",
       " 'Chelva Kumar': '00011100',\n",
       " 'Chetan D. Pahlajani': '00011101',\n",
       " 'Chinmay Ghoroi': '00011110',\n",
       " 'Dhiman Basu': '00011111',\n",
       " 'Dhiraj Bhatia': '00100000',\n",
       " 'Dilip Sundaram ': '00100001',\n",
       " 'Dillip Patel': '00100010',\n",
       " 'Emila Panda': '00100011',\n",
       " 'Frederick Coolidge': '00100100',\n",
       " 'G V Rao': '00100101',\n",
       " 'Gaurav Srivastava': '00100110',\n",
       " 'Gopinadhan Kalon': '00100111',\n",
       " 'Gurusamy Arumugam': '00101000',\n",
       " 'Harish P. M.': '00101001',\n",
       " 'Indranath Sengupta': '00101010',\n",
       " 'Iti Gupta': '00101011',\n",
       " 'Jagmohan Tyagi': '00101100',\n",
       " 'Jaichander Swaminathan': '00101101',\n",
       " 'Jordan Littman': '00101110',\n",
       " 'Joycee Mekie': '00101111',\n",
       " 'Joydip Saha': '00110000',\n",
       " 'Jyoti Mukhopadhyay': '00110001',\n",
       " 'K. R. Jayaprakash': '00110010',\n",
       " 'Kabeer Jasuja': '00110011',\n",
       " 'Kaustubh Rane': '00110100',\n",
       " 'Krishna Kanti Dey\\n': '00110101',\n",
       " 'Krishna Prasad': '00110110',\n",
       " 'Leslee Lazar': '00110111',\n",
       " 'Madhu Vadali': '00111000',\n",
       " 'Madhumita Sengupta': '00111001',\n",
       " 'Malavika Subramanyam': '00111010',\n",
       " 'Mana Shah': '00111011',\n",
       " 'Manasi Kanetkar': '00111100',\n",
       " 'Mandar Purushottam': '00111101',\n",
       " 'Manish Kumar': '00111110',\n",
       " 'Manoj Gupta': '00111111',\n",
       " 'Mayank Singh': '01000000',\n",
       " 'Meera Sunny': '01000001',\n",
       " 'Michel Danino': '01000010',\n",
       " 'Milan Kumar Das': '01000011',\n",
       " 'Mithun Radhakrishna': '01000100',\n",
       " 'Mohan C. Joshi': '01000101',\n",
       " 'Mohd. Mubashshir Ahsan': '01000110',\n",
       " 'Mohit Dineshkumar Ganeriwala': '01000111',\n",
       " 'Mona Mehta': '01001000',\n",
       " 'N. Ramakrishnan': '01001001',\n",
       " 'Naran Pindoriya': '01001010',\n",
       " 'Neeldhara Misra': '01001011',\n",
       " 'Neeraj Kaushal': '01001100',\n",
       " 'Nihar Mohapatra': '01001101',\n",
       " 'Nipun Batra': '01001110',\n",
       " 'Nishaant Choksi': '01001111',\n",
       " 'Nithin George': '01010000',\n",
       " 'Nitin Khanna': '01010001',\n",
       " 'Nitin Padhiyar': '01010010',\n",
       " 'Prachi Thareja': '01010011',\n",
       " 'Pranab Mohapatra': '01010100',\n",
       " 'Prasanna Venkatesh B\\n': '01010101',\n",
       " 'Pratik Mutha': '01010110',\n",
       " 'Pratyush Dayal': '01010111',\n",
       " 'Prof. C. N. Pandey': '01011000',\n",
       " 'R N Singh': '01011001',\n",
       " 'R R Puri': '01011010',\n",
       " 'R Sharan': '01011011',\n",
       " 'R. N. Singh': '01011100',\n",
       " 'R. R. Puri': '01011101',\n",
       " 'Ragavan': '01011110',\n",
       " 'Rahul Kumar ': '01011111',\n",
       " 'Raj Jaswa': '01100000',\n",
       " 'Rajat Gupta': '01100001',\n",
       " 'Rajendra Nagar': '01100010',\n",
       " 'Rajendran': '01100011',\n",
       " 'Ravi Ayyagiri': '01100100',\n",
       " 'Ravi Hegde': '01100101',\n",
       " 'Ravi Sastri Ayyagari': '01100110',\n",
       " 'Rupak Banerjee': '01100111',\n",
       " 'S P Mehrotra': '01101000',\n",
       " 'S. Rajendran': '01101001',\n",
       " 'Sairam Swaroop': '01101010',\n",
       " 'Sameer Dalvi': '01101011',\n",
       " 'Sanjay Amrutiya': '01101100',\n",
       " 'Sanjay Singh Bora': '01101101',\n",
       " 'Saptarshi Dey': '01101110',\n",
       " 'Saumya Khatua': '01101111',\n",
       " 'Shanmuganathan Raman': '01110000',\n",
       " 'Sharad Gupta': '01110001',\n",
       " 'Sharmistha Majumdar': '01110010',\n",
       " 'Sharmita Lahiri': '01110011',\n",
       " 'Shashank (GTF)': '01110100',\n",
       " 'Shivakumar Jolad': '01110101',\n",
       " 'Sivapriya': '01110110',\n",
       " 'SP Mehrotra': '01110111',\n",
       " 'Sriram Kanavah': '01111000',\n",
       " 'Sudhanshu Sharma': '01111001',\n",
       " 'Sudipta Basu': '01111010',\n",
       " 'Sudipta Sarkar': '01111011',\n",
       " 'Sumeet Varghese': '01111100',\n",
       " 'Superb Misra': '01111101',\n",
       " 'Svetlana Brzev': '01111110',\n",
       " 'Tannistha Samanta': '01111111',\n",
       " 'Uddipta Ghosh ': '10000000',\n",
       " 'Umashankar Singh': '10000001',\n",
       " 'Uttama Lahiri': '10000010',\n",
       " 'Vandana Luximon': '10000011',\n",
       " 'Vijay Thiruvenkatam': '10000100',\n",
       " 'Vikrant Jain': '10000101',\n",
       " 'Vimal Mishra ': '10000110',\n",
       " 'Vinay Verma': '10000111',\n",
       " 'Vineet Vasishta': '10001000',\n",
       " 'Vinod Chandra': '10001001',\n",
       " 'Vinod Narayanan': '10001010',\n",
       " 'Virupakshi Soppina': '10001011'}"
      ]
     },
     "execution_count": 13,
     "metadata": {},
     "output_type": "execute_result"
    }
   ],
   "source": [
    "Instructors_encode"
   ]
  },
  {
   "cell_type": "code",
   "execution_count": null,
   "metadata": {},
   "outputs": [],
   "source": []
  }
 ],
 "metadata": {
  "kernelspec": {
   "display_name": "Python 3",
   "language": "python",
   "name": "python3"
  },
  "language_info": {
   "codemirror_mode": {
    "name": "ipython",
    "version": 3
   },
   "file_extension": ".py",
   "mimetype": "text/x-python",
   "name": "python",
   "nbconvert_exporter": "python",
   "pygments_lexer": "ipython3",
   "version": "3.6.4"
  }
 },
 "nbformat": 4,
 "nbformat_minor": 2
}
